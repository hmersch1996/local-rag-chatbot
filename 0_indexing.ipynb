{
 "cells": [
  {
   "cell_type": "code",
   "execution_count": 1,
   "metadata": {},
   "outputs": [
    {
     "name": "stderr",
     "output_type": "stream",
     "text": [
      "/home/hm/anaconda3/envs/local-rag/lib/python3.11/site-packages/tqdm/auto.py:21: TqdmWarning: IProgress not found. Please update jupyter and ipywidgets. See https://ipywidgets.readthedocs.io/en/stable/user_install.html\n",
      "  from .autonotebook import tqdm as notebook_tqdm\n"
     ]
    }
   ],
   "source": [
    "import llama_index\n",
    "import ollama\n",
    "import os\n",
    "\n",
    "from utils import *"
   ]
  },
  {
   "cell_type": "code",
   "execution_count": 2,
   "metadata": {},
   "outputs": [],
   "source": [
    "from llama_index.core import SimpleDirectoryReader\n",
    "\n",
    "\n",
    "BASE_FOLDER = \"./docs\"\n",
    "\n",
    "docs = SimpleDirectoryReader(BASE_FOLDER, recursive=True, exclude_hidden=True).load_data()\n"
   ]
  },
  {
   "cell_type": "code",
   "execution_count": 5,
   "metadata": {},
   "outputs": [
    {
     "name": "stderr",
     "output_type": "stream",
     "text": [
      "Parsing nodes: 100%|██████████| 23/23 [00:00<00:00, 4823.69it/s]\n",
      "Generating embeddings: 100%|██████████| 24/24 [00:00<00:00, 59.55it/s]\n"
     ]
    }
   ],
   "source": [
    "\n",
    "\n",
    "chroma_collection = chroma_init(\"./chroma_db\")\n",
    "\n",
    "storage_context = create_llama_connectors(chroma_collection)\n",
    "\n",
    "documents = SimpleDirectoryReader(\"./docs\",recursive=True).load_data()\n",
    "\n",
    "embed_model = HuggingFaceEmbedding(model_name=\"BAAI/bge-base-en-v1.5\", device=\"cuda\")\n",
    "\n",
    "#llm = Ollama(model=\"deepseek-r1:latest\", request_timeout=1200.0, device='cuda')\n",
    "\n",
    "\n",
    "\n",
    "\n",
    "index, retriever = vsi(documents, storage_context, embed_model)"
   ]
  },
  {
   "cell_type": "code",
   "execution_count": null,
   "metadata": {},
   "outputs": [],
   "source": []
  }
 ],
 "metadata": {
  "kernelspec": {
   "display_name": "local-rag",
   "language": "python",
   "name": "python3"
  },
  "language_info": {
   "codemirror_mode": {
    "name": "ipython",
    "version": 3
   },
   "file_extension": ".py",
   "mimetype": "text/x-python",
   "name": "python",
   "nbconvert_exporter": "python",
   "pygments_lexer": "ipython3",
   "version": "3.11.11"
  }
 },
 "nbformat": 4,
 "nbformat_minor": 2
}
